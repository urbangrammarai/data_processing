{
 "cells": [
  {
   "cell_type": "markdown",
   "metadata": {},
   "source": [
    "# Fetch Ordnance Survey (Open) Data\n",
    "\n",
    "- Dowload files from OS OpenData API, save zip, open it in GeoPandas and dump to a PostGIS database.\n",
    "- Process OS MasterMap Building height data\n",
    "\n",
    "To establish a connection to the database, this notebook is using docker environment variables. Start docker as `docker run -it -e DB_PORT=<port> -e DB_USER=<username> -e DB_PWD=<password> -e DB_HOST=<host> darribas/gds_dev:5.0`.\n"
   ]
  },
  {
   "cell_type": "code",
   "execution_count": 1,
   "metadata": {},
   "outputs": [],
   "source": [
    "import os\n",
    "import zipfile\n",
    "import requests\n",
    "\n",
    "import fiona\n",
    "import geopandas as gpd\n",
    "\n",
    "from sqlalchemy import create_engine"
   ]
  },
  {
   "cell_type": "markdown",
   "metadata": {},
   "source": [
    "## OpenRoads\n",
    "\n",
    "### Download from API\n",
    "\n",
    "Request the list of products available using Ordnance Survey API and filter `'OpenRoads'` record."
   ]
  },
  {
   "cell_type": "code",
   "execution_count": 2,
   "metadata": {},
   "outputs": [],
   "source": [
    "response = requests.get('https://api.os.uk/downloads/v1/products')\n",
    "json = response.json()\n",
    "for product in json:\n",
    "    if product['id'] == 'OpenRoads':\n",
    "        url = product['url']"
   ]
  },
  {
   "cell_type": "code",
   "execution_count": 3,
   "metadata": {},
   "outputs": [
    {
     "data": {
      "text/plain": [
       "{'id': 'OpenRoads',\n",
       " 'name': 'OS Open Roads',\n",
       " 'description': 'Get a high-level view of the road network, from motorways to country lanes.',\n",
       " 'version': '2020-04',\n",
       " 'documentationUrl': 'https://www.ordnancesurvey.co.uk/business-government/products/open-map-roads',\n",
       " 'dataStructures': ['Vector'],\n",
       " 'category': 'Networks',\n",
       " 'formats': [{'format': 'ESRI® Shapefile'},\n",
       "  {'format': 'GML', 'subformat': '3'},\n",
       "  {'format': 'GeoPackage'}],\n",
       " 'url': 'https://api.os.uk/downloads/v1/products/OpenRoads',\n",
       " 'imageCount': 3,\n",
       " 'imageTemplate': 'https://api.os.uk/downloads/v1/products/OpenRoads/images/{index}',\n",
       " 'downloadsUrl': 'https://api.os.uk/downloads/v1/products/OpenRoads/downloads',\n",
       " 'areas': ['GB']}"
      ]
     },
     "execution_count": 3,
     "metadata": {},
     "output_type": "execute_result"
    }
   ],
   "source": [
    "roads = requests.get(url)\n",
    "roads_json = roads.json()\n",
    "roads_json"
   ]
  },
  {
   "cell_type": "markdown",
   "metadata": {},
   "source": [
    "Get download URLs."
   ]
  },
  {
   "cell_type": "code",
   "execution_count": 4,
   "metadata": {},
   "outputs": [
    {
     "data": {
      "text/plain": [
       "[{'md5': '60286049CB76C9D6364F0FE87090202C',\n",
       "  'size': 541236838,\n",
       "  'url': 'https://api.os.uk/downloads/v1/products/OpenRoads/downloads?area=GB&format=ESRI%C2%AE+Shapefile&redirect',\n",
       "  'format': 'ESRI® Shapefile',\n",
       "  'area': 'GB',\n",
       "  'fileName': 'oproad_essh_gb.zip'},\n",
       " {'md5': '84E66CAFCEA9DD695A68540DE9379D4C',\n",
       "  'size': 542188036,\n",
       "  'url': 'https://api.os.uk/downloads/v1/products/OpenRoads/downloads?area=GB&format=GML&subformat=3&redirect',\n",
       "  'format': 'GML',\n",
       "  'subformat': '3',\n",
       "  'area': 'GB',\n",
       "  'fileName': 'oproad_gml3_gb.zip'},\n",
       " {'md5': 'E1FC93742CAAE7EF70C675749077AB42',\n",
       "  'size': 931331115,\n",
       "  'url': 'https://api.os.uk/downloads/v1/products/OpenRoads/downloads?area=GB&format=GeoPackage&redirect',\n",
       "  'format': 'GeoPackage',\n",
       "  'area': 'GB',\n",
       "  'fileName': 'oproad_gpkg_gb.zip'}]"
      ]
     },
     "execution_count": 4,
     "metadata": {},
     "output_type": "execute_result"
    }
   ],
   "source": [
    "download = requests.get(roads_json['downloadsUrl'])\n",
    "download_json = download.json()\n",
    "download_json"
   ]
  },
  {
   "cell_type": "markdown",
   "metadata": {},
   "source": [
    "Save zipped GeoPackage to disk. Since we do not know its contents, we can't read it directly to GeoPandas."
   ]
  },
  {
   "cell_type": "code",
   "execution_count": 5,
   "metadata": {},
   "outputs": [],
   "source": [
    "for fileformat in download_json:\n",
    "    if fileformat['format'] == 'GeoPackage':\n",
    "        with open(fileformat['fileName'], \"wb\") as down:\n",
    "            down.write(requests.get(fileformat['url']).content)\n",
    "            down.close()"
   ]
  },
  {
   "cell_type": "markdown",
   "metadata": {},
   "source": [
    "Explore the contents of the downloaded file."
   ]
  },
  {
   "cell_type": "code",
   "execution_count": 6,
   "metadata": {},
   "outputs": [
    {
     "data": {
      "text/plain": [
       "['readme.txt', 'data/oproad_gb.gpkg', 'doc/licence.txt']"
      ]
     },
     "execution_count": 6,
     "metadata": {},
     "output_type": "execute_result"
    }
   ],
   "source": [
    "gpkg = zipfile.ZipFile(fileformat['fileName'])\n",
    "gpkg.namelist()"
   ]
  },
  {
   "cell_type": "markdown",
   "metadata": {},
   "source": [
    "Read GeoPackage to GeoPandas."
   ]
  },
  {
   "cell_type": "code",
   "execution_count": 7,
   "metadata": {},
   "outputs": [
    {
     "data": {
      "text/html": [
       "<div>\n",
       "<style scoped>\n",
       "    .dataframe tbody tr th:only-of-type {\n",
       "        vertical-align: middle;\n",
       "    }\n",
       "\n",
       "    .dataframe tbody tr th {\n",
       "        vertical-align: top;\n",
       "    }\n",
       "\n",
       "    .dataframe thead th {\n",
       "        text-align: right;\n",
       "    }\n",
       "</style>\n",
       "<table border=\"1\" class=\"dataframe\">\n",
       "  <thead>\n",
       "    <tr style=\"text-align: right;\">\n",
       "      <th></th>\n",
       "      <th>id</th>\n",
       "      <th>endNode</th>\n",
       "      <th>startNode</th>\n",
       "      <th>roadNumberTOID</th>\n",
       "      <th>roadNameTOID</th>\n",
       "      <th>fictitious</th>\n",
       "      <th>roadClassification</th>\n",
       "      <th>roadFunction</th>\n",
       "      <th>formOfWay</th>\n",
       "      <th>length</th>\n",
       "      <th>...</th>\n",
       "      <th>loop</th>\n",
       "      <th>primaryRoute</th>\n",
       "      <th>trunkRoad</th>\n",
       "      <th>roadClassificationNumber</th>\n",
       "      <th>name1</th>\n",
       "      <th>name1_lang</th>\n",
       "      <th>name2</th>\n",
       "      <th>name2_lang</th>\n",
       "      <th>roadStructure</th>\n",
       "      <th>geometry</th>\n",
       "    </tr>\n",
       "  </thead>\n",
       "  <tbody>\n",
       "    <tr>\n",
       "      <th>0</th>\n",
       "      <td>id04AE862E-2A92-41BC-BBE0-6AF05DDDE57E</td>\n",
       "      <td>idD6A4C11F-3E69-4E22-9711-2DE393FCF0A2</td>\n",
       "      <td>idF4241DAB-6DC5-4C0E-90FA-161BF2270663</td>\n",
       "      <td>None</td>\n",
       "      <td>None</td>\n",
       "      <td>False</td>\n",
       "      <td>Unknown</td>\n",
       "      <td>Minor Road</td>\n",
       "      <td>Single Carriageway</td>\n",
       "      <td>500</td>\n",
       "      <td>...</td>\n",
       "      <td>False</td>\n",
       "      <td>False</td>\n",
       "      <td>False</td>\n",
       "      <td>None</td>\n",
       "      <td>None</td>\n",
       "      <td>None</td>\n",
       "      <td>None</td>\n",
       "      <td>None</td>\n",
       "      <td>None</td>\n",
       "      <td>LINESTRING (463181.000 1212313.000, 463361.630...</td>\n",
       "    </tr>\n",
       "    <tr>\n",
       "      <th>1</th>\n",
       "      <td>idDF59D6BB-3E5C-4BFA-91E9-81FAFB70D79C</td>\n",
       "      <td>idE7211001-42DF-416C-9304-D39F9F66D4A6</td>\n",
       "      <td>id8F2F6CFE-2E3D-4CA3-AD41-124E098F7197</td>\n",
       "      <td>None</td>\n",
       "      <td>None</td>\n",
       "      <td>False</td>\n",
       "      <td>Unknown</td>\n",
       "      <td>Minor Road</td>\n",
       "      <td>Single Carriageway</td>\n",
       "      <td>525</td>\n",
       "      <td>...</td>\n",
       "      <td>False</td>\n",
       "      <td>False</td>\n",
       "      <td>False</td>\n",
       "      <td>None</td>\n",
       "      <td>None</td>\n",
       "      <td>None</td>\n",
       "      <td>None</td>\n",
       "      <td>None</td>\n",
       "      <td>None</td>\n",
       "      <td>LINESTRING (464759.470 1212349.740, 464729.000...</td>\n",
       "    </tr>\n",
       "    <tr>\n",
       "      <th>2</th>\n",
       "      <td>id92D440D3-B707-45F8-8173-E7EE22663573</td>\n",
       "      <td>idCB2E6127-8894-4372-8B1A-D8EECC2B6F8C</td>\n",
       "      <td>id9404ED22-2647-483C-81B6-C294CF3B8712</td>\n",
       "      <td>None</td>\n",
       "      <td>None</td>\n",
       "      <td>False</td>\n",
       "      <td>Unknown</td>\n",
       "      <td>Minor Road</td>\n",
       "      <td>Single Carriageway</td>\n",
       "      <td>338</td>\n",
       "      <td>...</td>\n",
       "      <td>False</td>\n",
       "      <td>False</td>\n",
       "      <td>False</td>\n",
       "      <td>None</td>\n",
       "      <td>None</td>\n",
       "      <td>None</td>\n",
       "      <td>None</td>\n",
       "      <td>None</td>\n",
       "      <td>None</td>\n",
       "      <td>LINESTRING (463644.000 1212504.000, 463805.030...</td>\n",
       "    </tr>\n",
       "    <tr>\n",
       "      <th>3</th>\n",
       "      <td>id7AA3E18E-21A4-4FD4-B308-EA0B3EA67046</td>\n",
       "      <td>id1CC69224-6F4C-4706-A658-2175240DE21A</td>\n",
       "      <td>id63BA7519-6915-4553-BEA5-AF9C57EF73A5</td>\n",
       "      <td>None</td>\n",
       "      <td>None</td>\n",
       "      <td>False</td>\n",
       "      <td>Unknown</td>\n",
       "      <td>Restricted Local Access Road</td>\n",
       "      <td>Single Carriageway</td>\n",
       "      <td>99</td>\n",
       "      <td>...</td>\n",
       "      <td>False</td>\n",
       "      <td>False</td>\n",
       "      <td>False</td>\n",
       "      <td>None</td>\n",
       "      <td>None</td>\n",
       "      <td>None</td>\n",
       "      <td>None</td>\n",
       "      <td>None</td>\n",
       "      <td>None</td>\n",
       "      <td>LINESTRING (464193.000 1212455.000, 464217.080...</td>\n",
       "    </tr>\n",
       "    <tr>\n",
       "      <th>4</th>\n",
       "      <td>idB9590DD5-48C1-47F6-9B1A-044C454CCB00</td>\n",
       "      <td>id63BA7519-6915-4553-BEA5-AF9C57EF73A5</td>\n",
       "      <td>idE7211001-42DF-416C-9304-D39F9F66D4A6</td>\n",
       "      <td>None</td>\n",
       "      <td>osgb4000000003210673</td>\n",
       "      <td>False</td>\n",
       "      <td>Unknown</td>\n",
       "      <td>Minor Road</td>\n",
       "      <td>Single Carriageway</td>\n",
       "      <td>104</td>\n",
       "      <td>...</td>\n",
       "      <td>False</td>\n",
       "      <td>False</td>\n",
       "      <td>False</td>\n",
       "      <td>None</td>\n",
       "      <td>Beach Road</td>\n",
       "      <td>None</td>\n",
       "      <td>None</td>\n",
       "      <td>None</td>\n",
       "      <td>None</td>\n",
       "      <td>LINESTRING (464287.780 1212496.830, 464240.390...</td>\n",
       "    </tr>\n",
       "  </tbody>\n",
       "</table>\n",
       "<p>5 rows × 21 columns</p>\n",
       "</div>"
      ],
      "text/plain": [
       "                                       id  \\\n",
       "0  id04AE862E-2A92-41BC-BBE0-6AF05DDDE57E   \n",
       "1  idDF59D6BB-3E5C-4BFA-91E9-81FAFB70D79C   \n",
       "2  id92D440D3-B707-45F8-8173-E7EE22663573   \n",
       "3  id7AA3E18E-21A4-4FD4-B308-EA0B3EA67046   \n",
       "4  idB9590DD5-48C1-47F6-9B1A-044C454CCB00   \n",
       "\n",
       "                                  endNode  \\\n",
       "0  idD6A4C11F-3E69-4E22-9711-2DE393FCF0A2   \n",
       "1  idE7211001-42DF-416C-9304-D39F9F66D4A6   \n",
       "2  idCB2E6127-8894-4372-8B1A-D8EECC2B6F8C   \n",
       "3  id1CC69224-6F4C-4706-A658-2175240DE21A   \n",
       "4  id63BA7519-6915-4553-BEA5-AF9C57EF73A5   \n",
       "\n",
       "                                startNode roadNumberTOID  \\\n",
       "0  idF4241DAB-6DC5-4C0E-90FA-161BF2270663           None   \n",
       "1  id8F2F6CFE-2E3D-4CA3-AD41-124E098F7197           None   \n",
       "2  id9404ED22-2647-483C-81B6-C294CF3B8712           None   \n",
       "3  id63BA7519-6915-4553-BEA5-AF9C57EF73A5           None   \n",
       "4  idE7211001-42DF-416C-9304-D39F9F66D4A6           None   \n",
       "\n",
       "           roadNameTOID  fictitious roadClassification  \\\n",
       "0                  None       False            Unknown   \n",
       "1                  None       False            Unknown   \n",
       "2                  None       False            Unknown   \n",
       "3                  None       False            Unknown   \n",
       "4  osgb4000000003210673       False            Unknown   \n",
       "\n",
       "                   roadFunction           formOfWay  length  ...   loop  \\\n",
       "0                    Minor Road  Single Carriageway     500  ...  False   \n",
       "1                    Minor Road  Single Carriageway     525  ...  False   \n",
       "2                    Minor Road  Single Carriageway     338  ...  False   \n",
       "3  Restricted Local Access Road  Single Carriageway      99  ...  False   \n",
       "4                    Minor Road  Single Carriageway     104  ...  False   \n",
       "\n",
       "   primaryRoute  trunkRoad  roadClassificationNumber       name1 name1_lang  \\\n",
       "0         False      False                      None        None       None   \n",
       "1         False      False                      None        None       None   \n",
       "2         False      False                      None        None       None   \n",
       "3         False      False                      None        None       None   \n",
       "4         False      False                      None  Beach Road       None   \n",
       "\n",
       "  name2 name2_lang roadStructure  \\\n",
       "0  None       None          None   \n",
       "1  None       None          None   \n",
       "2  None       None          None   \n",
       "3  None       None          None   \n",
       "4  None       None          None   \n",
       "\n",
       "                                            geometry  \n",
       "0  LINESTRING (463181.000 1212313.000, 463361.630...  \n",
       "1  LINESTRING (464759.470 1212349.740, 464729.000...  \n",
       "2  LINESTRING (463644.000 1212504.000, 463805.030...  \n",
       "3  LINESTRING (464193.000 1212455.000, 464217.080...  \n",
       "4  LINESTRING (464287.780 1212496.830, 464240.390...  \n",
       "\n",
       "[5 rows x 21 columns]"
      ]
     },
     "execution_count": 7,
     "metadata": {},
     "output_type": "execute_result"
    }
   ],
   "source": [
    "gdf = gpd.read_file('zip://' + fileformat['fileName'] + '!' + gpkg.namelist()[1])\n",
    "gdf.head()"
   ]
  },
  {
   "cell_type": "markdown",
   "metadata": {},
   "source": [
    "### Save GeoDataFrame to PostGIS"
   ]
  },
  {
   "cell_type": "code",
   "execution_count": 18,
   "metadata": {},
   "outputs": [],
   "source": [
    "user = os.environ.get('DB_USER')\n",
    "pwd = os.environ.get('DB_PWD')\n",
    "host = os.environ.get('DB_HOST')\n",
    "port = os.environ.get('DB_PORT')"
   ]
  },
  {
   "cell_type": "code",
   "execution_count": 19,
   "metadata": {},
   "outputs": [],
   "source": [
    "db_connection_url = f\"postgres+psycopg2://{user}:{pwd}@{host}:{port}/built_env\"\n",
    "engine = create_engine(db_connection_url)"
   ]
  },
  {
   "cell_type": "code",
   "execution_count": 12,
   "metadata": {},
   "outputs": [],
   "source": [
    "gdf.to_postgis(\"openroads_200803\", engine, if_exists='replace')"
   ]
  },
  {
   "cell_type": "markdown",
   "metadata": {},
   "source": [
    "## OpenMap - Local (building layer + barriers)\n",
    "### Download from API\n",
    "\n",
    "Now we get `url` of OpenMap - Local product, from which we extract buidling footprints and layers forming morphological barriers.\n"
   ]
  },
  {
   "cell_type": "code",
   "execution_count": 5,
   "metadata": {},
   "outputs": [
    {
     "name": "stdout",
     "output_type": "stream",
     "text": [
      "https://api.os.uk/downloads/v1/products/OpenMapLocal\n"
     ]
    }
   ],
   "source": [
    "for product in json:\n",
    "    if product['id'] == 'OpenMapLocal':\n",
    "        url = product['url']\n",
    "        print(url)"
   ]
  },
  {
   "cell_type": "markdown",
   "metadata": {},
   "source": [
    "Unlike above, OpenMap comes in split into tiles. We want the whole GB, so we have to specify it as `area`.\n"
   ]
  },
  {
   "cell_type": "code",
   "execution_count": 6,
   "metadata": {},
   "outputs": [
    {
     "name": "stdout",
     "output_type": "stream",
     "text": [
      "{'md5': '8D26A678FC6C0990633427519FF6F55D', 'size': 2239775851, 'url': 'https://api.os.uk/downloads/v1/products/OpenMapLocal/downloads?area=GB&format=GML&subformat=3&redirect', 'format': 'GML', 'subformat': '3', 'area': 'GB', 'fileName': 'opmplc_gml3_gb.zip'}\n"
     ]
    }
   ],
   "source": [
    "openmap = requests.get(url)\n",
    "openmap_json = openmap.json()\n",
    "\n",
    "download = requests.get(openmap_json['downloadsUrl'])\n",
    "download_json = download.json()\n",
    "\n",
    "for tile in download_json:\n",
    "    if tile['area'] == 'GB' and tile['format'] == 'GML':\n",
    "        url = tile['url']\n",
    "        filename = tile['fileName']\n",
    "        print(tile)"
   ]
  },
  {
   "cell_type": "code",
   "execution_count": 7,
   "metadata": {},
   "outputs": [],
   "source": [
    "with open(filename, \"wb\") as down:\n",
    "    down.write(requests.get(url).content)\n",
    "    down.close()"
   ]
  },
  {
   "cell_type": "markdown",
   "metadata": {},
   "source": [
    "### Save files to PostGIS\n",
    "\n",
    "Because downloaded zip still containes data split into tiles, we will have to iterate over them and append them individually to the same table.\n",
    "\n"
   ]
  },
  {
   "cell_type": "code",
   "execution_count": 8,
   "metadata": {},
   "outputs": [
    {
     "data": {
      "text/plain": [
       "['/data/',\n",
       " '/doc/',\n",
       " '/doc/licence.txt',\n",
       " '/readme.txt',\n",
       " 'data/HP/HP.gml',\n",
       " 'data/HT/HT.gml',\n",
       " 'data/HU/HU.gml',\n",
       " 'data/HW/HW.gml',\n",
       " 'data/HX/HX.gml',\n",
       " 'data/HY/HY.gml',\n",
       " 'data/HZ/HZ.gml',\n",
       " 'data/NA/NA.gml',\n",
       " 'data/NB/NB.gml',\n",
       " 'data/NC/NC.gml',\n",
       " 'data/ND/ND.gml',\n",
       " 'data/NF/NF.gml',\n",
       " 'data/NG/NG.gml',\n",
       " 'data/NH/NH.gml',\n",
       " 'data/NJ/NJ.gml',\n",
       " 'data/NK/NK.gml',\n",
       " 'data/NL/NL.gml',\n",
       " 'data/NM/NM.gml',\n",
       " 'data/NN/NN.gml',\n",
       " 'data/NO/NO.gml',\n",
       " 'data/NR/NR.gml',\n",
       " 'data/NS/NS.gml',\n",
       " 'data/NT/NT.gml',\n",
       " 'data/NU/NU.gml',\n",
       " 'data/NW/NW.gml',\n",
       " 'data/NX/NX.gml',\n",
       " 'data/NY/NY.gml',\n",
       " 'data/NZ/NZ.gml',\n",
       " 'data/OV/OV.gml',\n",
       " 'data/SD/SD.gml',\n",
       " 'data/SE/SE.gml',\n",
       " 'data/SH/SH.gml',\n",
       " 'data/SJ/SJ.gml',\n",
       " 'data/SK/SK.gml',\n",
       " 'data/SM/SM.gml',\n",
       " 'data/SN/SN.gml',\n",
       " 'data/SO/SO.gml',\n",
       " 'data/SP/SP.gml',\n",
       " 'data/SR/SR.gml',\n",
       " 'data/SS/SS.gml',\n",
       " 'data/ST/ST.gml',\n",
       " 'data/SU/SU.gml',\n",
       " 'data/SV/SV.gml',\n",
       " 'data/SW/SW.gml',\n",
       " 'data/SX/SX.gml',\n",
       " 'data/SY/SY.gml',\n",
       " 'data/SZ/SZ.gml',\n",
       " 'data/TA/TA.gml',\n",
       " 'data/TF/TF.gml',\n",
       " 'data/TG/TG.gml',\n",
       " 'data/TL/TL.gml',\n",
       " 'data/TM/TM.gml',\n",
       " 'data/TQ/TQ.gml',\n",
       " 'data/TR/TR.gml',\n",
       " 'data/TV/TV.gml']"
      ]
     },
     "execution_count": 8,
     "metadata": {},
     "output_type": "execute_result"
    }
   ],
   "source": [
    "gml = zipfile.ZipFile(filename)\n",
    "gml.namelist()"
   ]
  },
  {
   "cell_type": "markdown",
   "metadata": {},
   "source": [
    "Since `gml` files come with more layers that we are looking for, let's explore them and pick only those of interest.\n"
   ]
  },
  {
   "cell_type": "code",
   "execution_count": 13,
   "metadata": {},
   "outputs": [
    {
     "data": {
      "text/plain": [
       "['Building',\n",
       " 'CarChargingPoint',\n",
       " 'Foreshore',\n",
       " 'FunctionalSite',\n",
       " 'ImportantBuilding',\n",
       " 'NamedPlace',\n",
       " 'RailwayStation',\n",
       " 'RailwayTrack',\n",
       " 'Road',\n",
       " 'Roundabout',\n",
       " 'SurfaceWater_Area',\n",
       " 'SurfaceWater_Line',\n",
       " 'TidalBoundary',\n",
       " 'TidalWater',\n",
       " 'Woodland']"
      ]
     },
     "execution_count": 13,
     "metadata": {},
     "output_type": "execute_result"
    }
   ],
   "source": [
    "fiona.listlayers('zip://' + filename + '!' + gml.namelist()[-1])"
   ]
  },
  {
   "cell_type": "markdown",
   "metadata": {},
   "source": [
    "Finally, we can iterate over the contents of downloaded zip and store relevant data in our PostGIS table. Note the `if_exists='append` option, which ensures that we do not overwrite one tile with another. There are tiles covering only sea - those do not have wanted (e.g. `Building`) layer.\n"
   ]
  },
  {
   "cell_type": "markdown",
   "metadata": {},
   "source": [
    "#### Buildings"
   ]
  },
  {
   "cell_type": "code",
   "execution_count": 18,
   "metadata": {},
   "outputs": [
    {
     "name": "stdout",
     "output_type": "stream",
     "text": [
      "data/OV/OV.gml does not contain Building layer.\n"
     ]
    }
   ],
   "source": [
    "for file in gml.namelist():\n",
    "    if file.startswith('data/'):\n",
    "        if 'Building' in fiona.listlayers('zip://' + filename + '!' + file):\n",
    "            gdf = gpd.read_file('zip://' + filename + '!' + file, layer='Building')\n",
    "            gdf.to_postgis(\"openmap_buildings_200814\", engine, if_exists='append')\n",
    "        else:\n",
    "            print(file, 'does not contain Building layer.')"
   ]
  },
  {
   "cell_type": "markdown",
   "metadata": {},
   "source": [
    "#### Railway"
   ]
  },
  {
   "cell_type": "code",
   "execution_count": 16,
   "metadata": {},
   "outputs": [
    {
     "name": "stdout",
     "output_type": "stream",
     "text": [
      "data/HP/HP.gml does not contain Railway layer.\n",
      "data/HT/HT.gml does not contain Railway layer.\n",
      "data/HW/HW.gml does not contain Railway layer.\n",
      "data/HX/HX.gml does not contain Railway layer.\n",
      "data/HY/HY.gml does not contain Railway layer.\n",
      "data/HZ/HZ.gml does not contain Railway layer.\n",
      "data/NA/NA.gml does not contain Railway layer.\n",
      "data/NB/NB.gml does not contain Railway layer.\n",
      "data/NF/NF.gml does not contain Railway layer.\n",
      "data/NL/NL.gml does not contain Railway layer.\n",
      "data/NR/NR.gml does not contain Railway layer.\n",
      "data/NW/NW.gml does not contain Railway layer.\n",
      "data/OV/OV.gml does not contain Railway layer.\n",
      "data/SR/SR.gml does not contain Railway layer.\n",
      "data/SV/SV.gml does not contain Railway layer.\n"
     ]
    }
   ],
   "source": [
    "for file in gml.namelist():\n",
    "    if file.startswith('data/'):\n",
    "        if 'RailwayTrack' in fiona.listlayers('zip://' + filename + '!' + file):\n",
    "            gdf = gpd.read_file('zip://' + filename + '!' + file, layer='RailwayTrack')\n",
    "            gdf.to_postgis(\"openmap_railwaytrack_200824\", engine, if_exists='append')\n",
    "        else:\n",
    "            print(file, 'does not contain Railway layer.')"
   ]
  },
  {
   "cell_type": "markdown",
   "metadata": {},
   "source": [
    "#### Surface Water"
   ]
  },
  {
   "cell_type": "code",
   "execution_count": 17,
   "metadata": {},
   "outputs": [
    {
     "name": "stdout",
     "output_type": "stream",
     "text": [
      "data/HW/HW.gml does not contain SurfaceWater_Line layer.\n",
      "data/HX/HX.gml does not contain SurfaceWater_Area layer.\n",
      "data/HX/HX.gml does not contain SurfaceWater_Line layer.\n",
      "data/OV/OV.gml does not contain SurfaceWater_Area layer.\n",
      "data/OV/OV.gml does not contain SurfaceWater_Line layer.\n"
     ]
    }
   ],
   "source": [
    "for file in gml.namelist():\n",
    "    if file.startswith('data/'):\n",
    "        if 'SurfaceWater_Area' in fiona.listlayers('zip://' + filename + '!' + file):\n",
    "            gdf = gpd.read_file('zip://' + filename + '!' + file, layer='SurfaceWater_Area')\n",
    "            gdf.to_postgis(\"openmap_surfacewater_area_200824\", engine, if_exists='append')\n",
    "        else:\n",
    "            print(file, 'does not contain SurfaceWater_Area layer.')\n",
    "        if 'SurfaceWater_Line' in fiona.listlayers('zip://' + filename + '!' + file):\n",
    "            gdf = gpd.read_file('zip://' + filename + '!' + file, layer='SurfaceWater_Line')\n",
    "            gdf.to_postgis(\"openmap_surfacewater_line_200824\", engine, if_exists='append')\n",
    "        else:\n",
    "            print(file, 'does not contain SurfaceWater_Line layer.')"
   ]
  },
  {
   "cell_type": "markdown",
   "metadata": {},
   "source": [
    "#### Woodland"
   ]
  },
  {
   "cell_type": "code",
   "execution_count": 18,
   "metadata": {},
   "outputs": [
    {
     "name": "stdout",
     "output_type": "stream",
     "text": [
      "data/HT/HT.gml does not contain Woodland layer.\n",
      "data/HW/HW.gml does not contain Woodland layer.\n",
      "data/HX/HX.gml does not contain Woodland layer.\n",
      "data/HZ/HZ.gml does not contain Woodland layer.\n",
      "data/NA/NA.gml does not contain Woodland layer.\n",
      "data/OV/OV.gml does not contain Woodland layer.\n"
     ]
    }
   ],
   "source": [
    "for file in gml.namelist():\n",
    "    if file.startswith('data/'):\n",
    "        if 'Woodland' in fiona.listlayers('zip://' + filename + '!' + file):\n",
    "            gdf = gpd.read_file('zip://' + filename + '!' + file, layer='Woodland')\n",
    "            gdf.to_postgis(\"openmap_woodland_200824\", engine, if_exists='append')\n",
    "        else:\n",
    "            print(file, 'does not contain Woodland layer.')"
   ]
  },
  {
   "cell_type": "markdown",
   "metadata": {},
   "source": [
    "#### Tidal water"
   ]
  },
  {
   "cell_type": "code",
   "execution_count": 9,
   "metadata": {},
   "outputs": [],
   "source": [
    "for file in gml.namelist():\n",
    "    if file.startswith('data/'):\n",
    "        if 'TidalWater' in fiona.listlayers('zip://' + filename + '!' + file):\n",
    "            gdf = gpd.read_file('zip://' + filename + '!' + file, layer='TidalWater')\n",
    "            gdf.to_postgis(\"openmap_tidalwater_200908\", engine, if_exists='append')\n",
    "        else:\n",
    "            print(file, 'does not contain TidalWater layer.')"
   ]
  },
  {
   "cell_type": "markdown",
   "metadata": {},
   "source": [
    "#### Tidal Boundary\n",
    "\n",
    "Showing high water mark (coinciding with tidal water boundary) and low water mark."
   ]
  },
  {
   "cell_type": "code",
   "execution_count": 10,
   "metadata": {},
   "outputs": [
    {
     "name": "stdout",
     "output_type": "stream",
     "text": [
      "data/SP/SP.gml does not contain TidalBoundary layer.\n"
     ]
    }
   ],
   "source": [
    "for file in gml.namelist():\n",
    "    if file.startswith('data/'):\n",
    "        if 'TidalBoundary' in fiona.listlayers('zip://' + filename + '!' + file):\n",
    "            gdf = gpd.read_file('zip://' + filename + '!' + file, layer='TidalBoundary')\n",
    "            gdf.to_postgis(\"openmap_tidalboundary_200908\", engine, if_exists='append')\n",
    "        else:\n",
    "            print(file, 'does not contain TidalBoundary layer.')"
   ]
  },
  {
   "cell_type": "markdown",
   "metadata": {},
   "source": [
    "## OpenRivers"
   ]
  },
  {
   "cell_type": "code",
   "execution_count": 3,
   "metadata": {},
   "outputs": [],
   "source": [
    "for product in json:\n",
    "    if product['id'] == 'OpenRivers':\n",
    "        url = product['url']"
   ]
  },
  {
   "cell_type": "code",
   "execution_count": 5,
   "metadata": {},
   "outputs": [
    {
     "data": {
      "text/plain": [
       "{'id': 'OpenRivers',\n",
       " 'name': 'OS Open Rivers',\n",
       " 'description': 'Understand how watercourses in Great Britain join up.',\n",
       " 'version': '2020-04',\n",
       " 'documentationUrl': 'https://www.ordnancesurvey.co.uk/business-government/products/open-map-rivers',\n",
       " 'dataStructures': ['Vector'],\n",
       " 'category': 'Networks',\n",
       " 'formats': [{'format': 'ESRI® Shapefile'},\n",
       "  {'format': 'GML', 'subformat': '3'},\n",
       "  {'format': 'GeoPackage'}],\n",
       " 'url': 'https://api.os.uk/downloads/v1/products/OpenRivers',\n",
       " 'areas': ['GB'],\n",
       " 'imageCount': 3,\n",
       " 'imageTemplate': 'https://api.os.uk/downloads/v1/products/OpenRivers/images/{index}',\n",
       " 'downloadsUrl': 'https://api.os.uk/downloads/v1/products/OpenRivers/downloads'}"
      ]
     },
     "execution_count": 5,
     "metadata": {},
     "output_type": "execute_result"
    }
   ],
   "source": [
    "rivers = requests.get(url)\n",
    "rivers_json = rivers.json()\n",
    "rivers_json"
   ]
  },
  {
   "cell_type": "code",
   "execution_count": 6,
   "metadata": {},
   "outputs": [
    {
     "data": {
      "text/plain": [
       "[{'md5': '80479F3A41EF2DB802F4B1D45C8FECF1',\n",
       "  'size': 38392248,\n",
       "  'url': 'https://api.os.uk/downloads/v1/products/OpenRivers/downloads?area=GB&format=ESRI%C2%AE+Shapefile&redirect',\n",
       "  'format': 'ESRI® Shapefile',\n",
       "  'area': 'GB',\n",
       "  'fileName': 'oprvrs_essh_gb.zip'},\n",
       " {'md5': 'A5E9FA79510B4B30D1FFC0F00A76B2EB',\n",
       "  'size': 39484486,\n",
       "  'url': 'https://api.os.uk/downloads/v1/products/OpenRivers/downloads?area=GB&format=GML&subformat=3&redirect',\n",
       "  'format': 'GML',\n",
       "  'subformat': '3',\n",
       "  'area': 'GB',\n",
       "  'fileName': 'oprvrs_gml3_gb.zip'},\n",
       " {'md5': '62157F02DA12C1C134FD003B030E61F7',\n",
       "  'size': 53972360,\n",
       "  'url': 'https://api.os.uk/downloads/v1/products/OpenRivers/downloads?area=GB&format=GeoPackage&redirect',\n",
       "  'format': 'GeoPackage',\n",
       "  'area': 'GB',\n",
       "  'fileName': 'oprvrs_gpkg_gb.zip'}]"
      ]
     },
     "execution_count": 6,
     "metadata": {},
     "output_type": "execute_result"
    }
   ],
   "source": [
    "download = requests.get(rivers_json['downloadsUrl'])\n",
    "download_json = download.json()\n",
    "download_json"
   ]
  },
  {
   "cell_type": "code",
   "execution_count": 7,
   "metadata": {},
   "outputs": [],
   "source": [
    "for fileformat in download_json:\n",
    "    if fileformat['format'] == 'GeoPackage':\n",
    "        with open(fileformat['fileName'], \"wb\") as down:\n",
    "            down.write(requests.get(fileformat['url']).content)\n",
    "            down.close()"
   ]
  },
  {
   "cell_type": "code",
   "execution_count": 8,
   "metadata": {},
   "outputs": [
    {
     "data": {
      "text/plain": [
       "['readme.txt', 'data/oprvrs_gb.gpkg', 'doc/licence.txt']"
      ]
     },
     "execution_count": 8,
     "metadata": {},
     "output_type": "execute_result"
    }
   ],
   "source": [
    "gpkg = zipfile.ZipFile(fileformat['fileName'])\n",
    "gpkg.namelist()"
   ]
  },
  {
   "cell_type": "code",
   "execution_count": 19,
   "metadata": {},
   "outputs": [
    {
     "data": {
      "text/plain": [
       "['HydroNode', 'WatercourseLink']"
      ]
     },
     "execution_count": 19,
     "metadata": {},
     "output_type": "execute_result"
    }
   ],
   "source": [
    "fiona.listlayers('zip://' + fileformat['fileName'] + '!' + gpkg.namelist()[1])"
   ]
  },
  {
   "cell_type": "code",
   "execution_count": 20,
   "metadata": {},
   "outputs": [],
   "source": [
    "gdf = gpd.read_file('zip://' + fileformat['fileName'] + '!' + gpkg.namelist()[1], layer='WatercourseLink')"
   ]
  },
  {
   "cell_type": "code",
   "execution_count": 22,
   "metadata": {},
   "outputs": [],
   "source": [
    "gdf.to_postgis(\"openrivers_200909\", engine, if_exists='replace')"
   ]
  },
  {
   "cell_type": "markdown",
   "metadata": {},
   "source": [
    "## Save samples of OS MasterMap Building height layer to parquet files\n",
    "\n",
    "Processing raw downloads of OS MasterMap Building height layer from `digimap.edina.ac.uk` to a single parquet file per city. Initial downloaded zip files have been extracted and renamed to indicate the location. The contents of each folder is unchanged.\n",
    "\n",
    "The structure of current directory:\n",
    "\n",
    "```\n",
    "notebook.ipynb\n",
    "glasgow/*\n",
    "leeds/*\n",
    "edinburgh/*\n",
    "manchester/*\n",
    "liverpool/*\n",
    "```\n",
    "\n",
    "where `*` is the original content of downloaded zip file.\n",
    "\n",
    "First we get the list of cities based on folders:\n"
   ]
  },
  {
   "cell_type": "code",
   "execution_count": null,
   "metadata": {},
   "outputs": [],
   "source": [
    "cities = [city for city in glob.glob('**') if not city.endswith('ipynb')]"
   ]
  },
  {
   "cell_type": "markdown",
   "metadata": {},
   "source": [
    "The data are stored in tiled `gdb` files which needs to be merged together first. We loop through `cities` and concatenate all `gdb` files in each into a single GeoDataFrame, which is then saved to a single parquet file."
   ]
  },
  {
   "cell_type": "code",
   "execution_count": null,
   "metadata": {},
   "outputs": [],
   "source": [
    "for city in cities:\n",
    "    files = glob.glob(f'{city}/**/**/**')\n",
    "    merged = pd.concat([gpd.read_file(file) for file in files if file.endswith('gdb')])\n",
    "    merged.to_parquet(f'{city}.pq')"
   ]
  },
  {
   "cell_type": "markdown",
   "metadata": {},
   "source": [
    "## Coastline\n",
    "\n",
    "To get the external boundary of the GB, we will also need coastline geometry. That is downloadable from [data.gov.uk](https://data.gov.uk/dataset/26053db7-6caf-446f-8f7e-9775a19970e0/countries-december-2017-full-extent-boundaries-in-great-britain)."
   ]
  },
  {
   "cell_type": "code",
   "execution_count": 7,
   "metadata": {},
   "outputs": [],
   "source": [
    "coastline = gpd.read_file('http://geoportal1-ons.opendata.arcgis.com/datasets/f2c2211ff185418484566b2b7a5e1300_1.zip?outSR={%22latestWkid%22:27700,%22wkid%22:27700}')"
   ]
  },
  {
   "cell_type": "code",
   "execution_count": 8,
   "metadata": {},
   "outputs": [
    {
     "data": {
      "text/html": [
       "<div>\n",
       "<style scoped>\n",
       "    .dataframe tbody tr th:only-of-type {\n",
       "        vertical-align: middle;\n",
       "    }\n",
       "\n",
       "    .dataframe tbody tr th {\n",
       "        vertical-align: top;\n",
       "    }\n",
       "\n",
       "    .dataframe thead th {\n",
       "        text-align: right;\n",
       "    }\n",
       "</style>\n",
       "<table border=\"1\" class=\"dataframe\">\n",
       "  <thead>\n",
       "    <tr style=\"text-align: right;\">\n",
       "      <th></th>\n",
       "      <th>objectid</th>\n",
       "      <th>ctry17cd</th>\n",
       "      <th>ctry17nm</th>\n",
       "      <th>ctry17nmw</th>\n",
       "      <th>bng_e</th>\n",
       "      <th>bng_n</th>\n",
       "      <th>long</th>\n",
       "      <th>lat</th>\n",
       "      <th>st_areasha</th>\n",
       "      <th>st_lengths</th>\n",
       "      <th>geometry</th>\n",
       "    </tr>\n",
       "  </thead>\n",
       "  <tbody>\n",
       "    <tr>\n",
       "      <th>0</th>\n",
       "      <td>1</td>\n",
       "      <td>E92000001</td>\n",
       "      <td>England</td>\n",
       "      <td>Lloegr</td>\n",
       "      <td>394881</td>\n",
       "      <td>370341</td>\n",
       "      <td>-2.07813</td>\n",
       "      <td>53.230099</td>\n",
       "      <td>1.329461e+11</td>\n",
       "      <td>4.776071e+06</td>\n",
       "      <td>MULTIPOLYGON (((398210.896 657405.599, 398214....</td>\n",
       "    </tr>\n",
       "    <tr>\n",
       "      <th>1</th>\n",
       "      <td>2</td>\n",
       "      <td>S92000003</td>\n",
       "      <td>Scotland</td>\n",
       "      <td>Yr Alban</td>\n",
       "      <td>277746</td>\n",
       "      <td>700060</td>\n",
       "      <td>-3.97091</td>\n",
       "      <td>56.177429</td>\n",
       "      <td>8.022646e+10</td>\n",
       "      <td>1.790847e+07</td>\n",
       "      <td>MULTIPOLYGON (((320228.803 976907.502, 320230....</td>\n",
       "    </tr>\n",
       "    <tr>\n",
       "      <th>2</th>\n",
       "      <td>3</td>\n",
       "      <td>W92000004</td>\n",
       "      <td>Wales</td>\n",
       "      <td>Cymru</td>\n",
       "      <td>263406</td>\n",
       "      <td>242881</td>\n",
       "      <td>-3.99416</td>\n",
       "      <td>52.067410</td>\n",
       "      <td>2.122477e+10</td>\n",
       "      <td>2.027624e+06</td>\n",
       "      <td>MULTIPOLYGON (((312661.601 385723.097, 312730....</td>\n",
       "    </tr>\n",
       "  </tbody>\n",
       "</table>\n",
       "</div>"
      ],
      "text/plain": [
       "   objectid   ctry17cd  ctry17nm ctry17nmw   bng_e   bng_n     long  \\\n",
       "0         1  E92000001   England    Lloegr  394881  370341 -2.07813   \n",
       "1         2  S92000003  Scotland  Yr Alban  277746  700060 -3.97091   \n",
       "2         3  W92000004     Wales     Cymru  263406  242881 -3.99416   \n",
       "\n",
       "         lat    st_areasha    st_lengths  \\\n",
       "0  53.230099  1.329461e+11  4.776071e+06   \n",
       "1  56.177429  8.022646e+10  1.790847e+07   \n",
       "2  52.067410  2.122477e+10  2.027624e+06   \n",
       "\n",
       "                                            geometry  \n",
       "0  MULTIPOLYGON (((398210.896 657405.599, 398214....  \n",
       "1  MULTIPOLYGON (((320228.803 976907.502, 320230....  \n",
       "2  MULTIPOLYGON (((312661.601 385723.097, 312730....  "
      ]
     },
     "execution_count": 8,
     "metadata": {},
     "output_type": "execute_result"
    }
   ],
   "source": [
    "coastline"
   ]
  },
  {
   "cell_type": "code",
   "execution_count": 9,
   "metadata": {},
   "outputs": [
    {
     "data": {
      "text/plain": [
       "<AxesSubplot:>"
      ]
     },
     "execution_count": 9,
     "metadata": {},
     "output_type": "execute_result"
    },
    {
     "data": {
      "image/png": "[encoded data removed]",
      "text/plain": [
       "<Figure size 432x288 with 1 Axes>"
      ]
     },
     "metadata": {
      "needs_background": "light"
     },
     "output_type": "display_data"
    }
   ],
   "source": [
    "coastline.plot()"
   ]
  },
  {
   "cell_type": "code",
   "execution_count": 10,
   "metadata": {},
   "outputs": [],
   "source": [
    "coastline.to_postgis(\"gb_countries_2017\", engine, if_exists='replace')"
   ]
  },
  {
   "cell_type": "markdown",
   "metadata": {},
   "source": [
    "However, that proved to be unprecise. Coastline layer from Strategi product (although deprecated now) is better for our purpose."
   ]
  },
  {
   "cell_type": "code",
   "execution_count": 4,
   "metadata": {},
   "outputs": [],
   "source": [
    "json = response.json()\n",
    "for product in json:\n",
    "    if product['id'] == 'Strategi':\n",
    "        url = product['url']"
   ]
  },
  {
   "cell_type": "code",
   "execution_count": 6,
   "metadata": {},
   "outputs": [
    {
     "data": {
      "text/plain": [
       "{'id': 'Strategi',\n",
       " 'name': 'Strategi®',\n",
       " 'description': 'A regional vector map dataset, railways, airports, rivers, villages, woods, land use and place names.',\n",
       " 'version': '2016-01',\n",
       " 'documentationUrl': 'https://www.ordnancesurvey.co.uk/business-government/products/strategi',\n",
       " 'dataStructures': ['Vector'],\n",
       " 'category': 'Mapping',\n",
       " 'formats': [{'format': 'DXF'},\n",
       "  {'format': 'ESRI® Shapefile'},\n",
       "  {'format': 'MapInfo® TAB'}],\n",
       " 'warning': \"(Note: Strategi won't be updated again. We released our final update in January 2016.)\",\n",
       " 'url': 'https://api.os.uk/downloads/v1/products/Strategi',\n",
       " 'imageCount': 3,\n",
       " 'imageTemplate': 'https://api.os.uk/downloads/v1/products/Strategi/images/{index}',\n",
       " 'downloadsUrl': 'https://api.os.uk/downloads/v1/products/Strategi/downloads',\n",
       " 'areas': ['GB']}"
      ]
     },
     "execution_count": 6,
     "metadata": {},
     "output_type": "execute_result"
    }
   ],
   "source": [
    "strategi = requests.get(url)\n",
    "strategi_json = strategi.json()\n",
    "strategi_json"
   ]
  },
  {
   "cell_type": "code",
   "execution_count": 7,
   "metadata": {},
   "outputs": [
    {
     "data": {
      "text/plain": [
       "[{'md5': 'AE5655AD0F52B777AF53462552222CE4',\n",
       "  'size': 58134716,\n",
       "  'url': 'https://api.os.uk/downloads/v1/products/Strategi/downloads?area=GB&format=DXF&redirect',\n",
       "  'format': 'DXF',\n",
       "  'area': 'GB',\n",
       "  'fileName': 'strtgi_dxf_gb.zip'},\n",
       " {'md5': '374550DB97DDC152554F97DBA2421E80',\n",
       "  'size': 40443471,\n",
       "  'url': 'https://api.os.uk/downloads/v1/products/Strategi/downloads?area=GB&format=ESRI%C2%AE+Shapefile&redirect',\n",
       "  'format': 'ESRI® Shapefile',\n",
       "  'area': 'GB',\n",
       "  'fileName': 'strtgi_essh_gb.zip'},\n",
       " {'md5': '7550A30048FABDA32FAF16D8217A2687',\n",
       "  'size': 55439034,\n",
       "  'url': 'https://api.os.uk/downloads/v1/products/Strategi/downloads?area=GB&format=MapInfo%C2%AE+TAB&redirect',\n",
       "  'format': 'MapInfo® TAB',\n",
       "  'area': 'GB',\n",
       "  'fileName': 'strtgi_mapt_gb.zip'}]"
      ]
     },
     "execution_count": 7,
     "metadata": {},
     "output_type": "execute_result"
    }
   ],
   "source": [
    "download = requests.get(strategi_json['downloadsUrl'])\n",
    "download_json = download.json()\n",
    "download_json"
   ]
  },
  {
   "cell_type": "code",
   "execution_count": 8,
   "metadata": {},
   "outputs": [],
   "source": [
    "for fileformat in download_json:\n",
    "    if fileformat['format'] == 'ESRI® Shapefile':\n",
    "        with open(fileformat['fileName'], \"wb\") as down:\n",
    "            down.write(requests.get(fileformat['url']).content)\n",
    "            down.close()"
   ]
  },
  {
   "cell_type": "code",
   "execution_count": 10,
   "metadata": {},
   "outputs": [
    {
     "data": {
      "text/plain": [
       "['strtgi_essh_gb/',\n",
       " 'strtgi_essh_gb/data/',\n",
       " 'strtgi_essh_gb/data/admin_line.dbf',\n",
       " 'strtgi_essh_gb/data/admin_line.prj',\n",
       " 'strtgi_essh_gb/data/admin_line.shp',\n",
       " 'strtgi_essh_gb/data/admin_line.shx',\n",
       " 'strtgi_essh_gb/data/admin_seed.dbf',\n",
       " 'strtgi_essh_gb/data/admin_seed.prj',\n",
       " 'strtgi_essh_gb/data/admin_seed.shp',\n",
       " 'strtgi_essh_gb/data/admin_seed.shx',\n",
       " 'strtgi_essh_gb/data/antiquity_line.dbf',\n",
       " 'strtgi_essh_gb/data/antiquity_line.prj',\n",
       " 'strtgi_essh_gb/data/antiquity_line.shp',\n",
       " 'strtgi_essh_gb/data/antiquity_line.shx',\n",
       " 'strtgi_essh_gb/data/a_road.dbf',\n",
       " 'strtgi_essh_gb/data/a_road.prj',\n",
       " 'strtgi_essh_gb/data/a_road.shp',\n",
       " 'strtgi_essh_gb/data/a_road.shx',\n",
       " 'strtgi_essh_gb/data/b_road.dbf',\n",
       " 'strtgi_essh_gb/data/b_road.prj',\n",
       " 'strtgi_essh_gb/data/b_road.shp',\n",
       " 'strtgi_essh_gb/data/b_road.shx',\n",
       " 'strtgi_essh_gb/data/coastline.dbf',\n",
       " 'strtgi_essh_gb/data/coastline.prj',\n",
       " 'strtgi_essh_gb/data/coastline.shp',\n",
       " 'strtgi_essh_gb/data/coastline.shx',\n",
       " 'strtgi_essh_gb/data/ferry_box.dbf',\n",
       " 'strtgi_essh_gb/data/ferry_box.prj',\n",
       " 'strtgi_essh_gb/data/ferry_box.shp',\n",
       " 'strtgi_essh_gb/data/ferry_box.shx',\n",
       " 'strtgi_essh_gb/data/ferry_line.dbf',\n",
       " 'strtgi_essh_gb/data/ferry_line.prj',\n",
       " 'strtgi_essh_gb/data/ferry_line.shp',\n",
       " 'strtgi_essh_gb/data/ferry_line.shx',\n",
       " 'strtgi_essh_gb/data/foreshor_region.dbf',\n",
       " 'strtgi_essh_gb/data/foreshor_region.prj',\n",
       " 'strtgi_essh_gb/data/foreshor_region.shp',\n",
       " 'strtgi_essh_gb/data/foreshor_region.shx',\n",
       " 'strtgi_essh_gb/data/general_text/',\n",
       " 'strtgi_essh_gb/data/general_text/bnd.adf',\n",
       " 'strtgi_essh_gb/data/general_text/lab.adf',\n",
       " 'strtgi_essh_gb/data/general_text/text.tat',\n",
       " 'strtgi_essh_gb/data/general_text/text.txt',\n",
       " 'strtgi_essh_gb/data/general_text/text.txx',\n",
       " 'strtgi_essh_gb/data/general_text/tic.adf',\n",
       " 'strtgi_essh_gb/data/general_text/tol.adf',\n",
       " 'strtgi_essh_gb/data/general_text.dbf',\n",
       " 'strtgi_essh_gb/data/general_text.prj',\n",
       " 'strtgi_essh_gb/data/general_text.shp',\n",
       " 'strtgi_essh_gb/data/general_text.shx',\n",
       " 'strtgi_essh_gb/data/gridlines.dbf',\n",
       " 'strtgi_essh_gb/data/gridlines.prj',\n",
       " 'strtgi_essh_gb/data/gridlines.shp',\n",
       " 'strtgi_essh_gb/data/gridlines.shx',\n",
       " 'strtgi_essh_gb/data/info/',\n",
       " 'strtgi_essh_gb/data/info/arc.dir',\n",
       " 'strtgi_essh_gb/data/info/arc0000.dat',\n",
       " 'strtgi_essh_gb/data/info/arc0000.nit',\n",
       " 'strtgi_essh_gb/data/info/arc0001.dat',\n",
       " 'strtgi_essh_gb/data/info/arc0001.nit',\n",
       " 'strtgi_essh_gb/data/info/arc0002.dat',\n",
       " 'strtgi_essh_gb/data/info/arc0002.nit',\n",
       " 'strtgi_essh_gb/data/info/arc0003.dat',\n",
       " 'strtgi_essh_gb/data/info/arc0003.nit',\n",
       " 'strtgi_essh_gb/data/info/arc0004.dat',\n",
       " 'strtgi_essh_gb/data/info/arc0004.nit',\n",
       " 'strtgi_essh_gb/data/info/arc0005.dat',\n",
       " 'strtgi_essh_gb/data/info/arc0005.nit',\n",
       " 'strtgi_essh_gb/data/lakes_region.dbf',\n",
       " 'strtgi_essh_gb/data/lakes_region.prj',\n",
       " 'strtgi_essh_gb/data/lakes_region.shp',\n",
       " 'strtgi_essh_gb/data/lakes_region.shx',\n",
       " 'strtgi_essh_gb/data/land_use_seed.dbf',\n",
       " 'strtgi_essh_gb/data/land_use_seed.prj',\n",
       " 'strtgi_essh_gb/data/land_use_seed.shp',\n",
       " 'strtgi_essh_gb/data/land_use_seed.shx',\n",
       " 'strtgi_essh_gb/data/land_use_symbol.dbf',\n",
       " 'strtgi_essh_gb/data/land_use_symbol.prj',\n",
       " 'strtgi_essh_gb/data/land_use_symbol.shp',\n",
       " 'strtgi_essh_gb/data/land_use_symbol.shx',\n",
       " 'strtgi_essh_gb/data/minor_road.dbf',\n",
       " 'strtgi_essh_gb/data/minor_road.prj',\n",
       " 'strtgi_essh_gb/data/minor_road.shp',\n",
       " 'strtgi_essh_gb/data/minor_road.shx',\n",
       " 'strtgi_essh_gb/data/motorway.dbf',\n",
       " 'strtgi_essh_gb/data/motorway.prj',\n",
       " 'strtgi_essh_gb/data/motorway.shp',\n",
       " 'strtgi_essh_gb/data/motorway.shx',\n",
       " 'strtgi_essh_gb/data/national_park.dbf',\n",
       " 'strtgi_essh_gb/data/national_park.prj',\n",
       " 'strtgi_essh_gb/data/national_park.shp',\n",
       " 'strtgi_essh_gb/data/national_park.shx',\n",
       " 'strtgi_essh_gb/data/primary_road.dbf',\n",
       " 'strtgi_essh_gb/data/primary_road.prj',\n",
       " 'strtgi_essh_gb/data/primary_road.shp',\n",
       " 'strtgi_essh_gb/data/primary_road.shx',\n",
       " 'strtgi_essh_gb/data/railway_line.dbf',\n",
       " 'strtgi_essh_gb/data/railway_line.prj',\n",
       " 'strtgi_essh_gb/data/railway_line.shp',\n",
       " 'strtgi_essh_gb/data/railway_line.shx',\n",
       " 'strtgi_essh_gb/data/railway_point.dbf',\n",
       " 'strtgi_essh_gb/data/railway_point.prj',\n",
       " 'strtgi_essh_gb/data/railway_point.shp',\n",
       " 'strtgi_essh_gb/data/railway_point.shx',\n",
       " 'strtgi_essh_gb/data/rivers_line.dbf',\n",
       " 'strtgi_essh_gb/data/rivers_line.prj',\n",
       " 'strtgi_essh_gb/data/rivers_line.shp',\n",
       " 'strtgi_essh_gb/data/rivers_line.shx',\n",
       " 'strtgi_essh_gb/data/road_point.dbf',\n",
       " 'strtgi_essh_gb/data/road_point.prj',\n",
       " 'strtgi_essh_gb/data/road_point.shp',\n",
       " 'strtgi_essh_gb/data/road_point.shx',\n",
       " 'strtgi_essh_gb/data/settlement_seed.dbf',\n",
       " 'strtgi_essh_gb/data/settlement_seed.prj',\n",
       " 'strtgi_essh_gb/data/settlement_seed.shp',\n",
       " 'strtgi_essh_gb/data/settlement_seed.shx',\n",
       " 'strtgi_essh_gb/data/spot_height.dbf',\n",
       " 'strtgi_essh_gb/data/spot_height.prj',\n",
       " 'strtgi_essh_gb/data/spot_height.shp',\n",
       " 'strtgi_essh_gb/data/spot_height.shx',\n",
       " 'strtgi_essh_gb/data/Strategi.lyr',\n",
       " 'strtgi_essh_gb/data/tourist_symbol.dbf',\n",
       " 'strtgi_essh_gb/data/tourist_symbol.prj',\n",
       " 'strtgi_essh_gb/data/tourist_symbol.shp',\n",
       " 'strtgi_essh_gb/data/tourist_symbol.shx',\n",
       " 'strtgi_essh_gb/data/transport_symbol.dbf',\n",
       " 'strtgi_essh_gb/data/transport_symbol.prj',\n",
       " 'strtgi_essh_gb/data/transport_symbol.shp',\n",
       " 'strtgi_essh_gb/data/transport_symbol.shx',\n",
       " 'strtgi_essh_gb/data/transport_text.dbf',\n",
       " 'strtgi_essh_gb/data/transport_text.prj',\n",
       " 'strtgi_essh_gb/data/transport_text.shp',\n",
       " 'strtgi_essh_gb/data/transport_text.shx',\n",
       " 'strtgi_essh_gb/data/transport_txt/',\n",
       " 'strtgi_essh_gb/data/transport_txt/bnd.adf',\n",
       " 'strtgi_essh_gb/data/transport_txt/lab.adf',\n",
       " 'strtgi_essh_gb/data/transport_txt/text.tat',\n",
       " 'strtgi_essh_gb/data/transport_txt/text.txt',\n",
       " 'strtgi_essh_gb/data/transport_txt/text.txx',\n",
       " 'strtgi_essh_gb/data/transport_txt/tic.adf',\n",
       " 'strtgi_essh_gb/data/transport_txt/tol.adf',\n",
       " 'strtgi_essh_gb/data/urban_region.dbf',\n",
       " 'strtgi_essh_gb/data/urban_region.prj',\n",
       " 'strtgi_essh_gb/data/urban_region.shp',\n",
       " 'strtgi_essh_gb/data/urban_region.shx',\n",
       " 'strtgi_essh_gb/data/woodland_region.dbf',\n",
       " 'strtgi_essh_gb/data/woodland_region.prj',\n",
       " 'strtgi_essh_gb/data/woodland_region.shp',\n",
       " 'strtgi_essh_gb/data/woodland_region.shx',\n",
       " 'strtgi_essh_gb/doc/',\n",
       " 'strtgi_essh_gb/doc/licence.txt',\n",
       " 'strtgi_essh_gb/doc/StrategiSymbols.ttf',\n",
       " 'strtgi_essh_gb/doc/Strategi_Area.txt',\n",
       " 'strtgi_essh_gb/doc/Strategi_Release_2016_Change.txt',\n",
       " 'strtgi_essh_gb/gazetteer/',\n",
       " 'strtgi_essh_gb/gazetteer/Strategi_Gazetteer_2016.txt',\n",
       " 'strtgi_essh_gb/Strategi_Readme.txt',\n",
       " 'strtgi_essh_gb/doc/Styling_Guide.pdf']"
      ]
     },
     "execution_count": 10,
     "metadata": {},
     "output_type": "execute_result"
    }
   ],
   "source": [
    "gml = zipfile.ZipFile('strtgi_essh_gb.zip')\n",
    "gml.namelist()"
   ]
  },
  {
   "cell_type": "code",
   "execution_count": 13,
   "metadata": {},
   "outputs": [],
   "source": [
    "coastline = gpd.read_file('zip://strtgi_essh_gb.zip!strtgi_essh_gb/data/coastline.shp')"
   ]
  },
  {
   "cell_type": "code",
   "execution_count": 20,
   "metadata": {},
   "outputs": [],
   "source": [
    "coastline.to_postgis(\"gb_coastline_2016\", engine, if_exists='replace')"
   ]
  },
  {
   "cell_type": "code",
   "execution_count": null,
   "metadata": {},
   "outputs": [],
   "source": []
  }
 ],
 "metadata": {
  "kernelspec": {
   "display_name": "Python 3",
   "language": "python",
   "name": "python3"
  },
  "language_info": {
   "codemirror_mode": {
    "name": "ipython",
    "version": 3
   },
   "file_extension": ".py",
   "mimetype": "text/x-python",
   "name": "python",
   "nbconvert_exporter": "python",
   "pygments_lexer": "ipython3",
   "version": "3.7.8"
  }
 },
 "nbformat": 4,
 "nbformat_minor": 4
}
