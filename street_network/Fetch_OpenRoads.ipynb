{
 "cells": [
  {
   "cell_type": "markdown",
   "metadata": {},
   "source": [
    "# Fetch OpenRoads and store them in a PostGIS database\n",
    "\n",
    "Dowload OpenRoads from OS API, save zip, open it in GeoPandas and dump to a PostGIS database.\n",
    "\n",
    "To establish a connection to the database, this notebook is using docker environment variables. Start docker as `docker run -it -e DB_PORT=<port> -e DB_USER=<username> -e DB_PWD=<password> -e DB_HOST=<host> darribas/gds_dev:5.0`.\n"
   ]
  },
  {
   "cell_type": "code",
   "execution_count": 1,
   "metadata": {},
   "outputs": [],
   "source": [
    "import os\n",
    "import zipfile\n",
    "import requests\n",
    "\n",
    "import geopandas as gpd\n",
    "\n",
    "from sqlalchemy import create_engine"
   ]
  },
  {
   "cell_type": "markdown",
   "metadata": {},
   "source": [
    "## Download OpenRoads\n",
    "\n",
    "Request the list of products available using Ordnance Survey API and filter `'OpenRoads'` record."
   ]
  },
  {
   "cell_type": "code",
   "execution_count": 2,
   "metadata": {},
   "outputs": [],
   "source": [
    "response = requests.get('https://api.os.uk/downloads/v1/products')\n",
    "json = response.json()\n",
    "for product in json:\n",
    "    if product['id'] == 'OpenRoads':\n",
    "        url = product['url']"
   ]
  },
  {
   "cell_type": "code",
   "execution_count": 3,
   "metadata": {},
   "outputs": [
    {
     "data": {
      "text/plain": [
       "{'id': 'OpenRoads',\n",
       " 'name': 'OS Open Roads',\n",
       " 'description': 'Get a high-level view of the road network, from motorways to country lanes.',\n",
       " 'version': '2020-04',\n",
       " 'documentationUrl': 'https://www.ordnancesurvey.co.uk/business-government/products/open-map-roads',\n",
       " 'dataStructures': ['Vector'],\n",
       " 'category': 'Networks',\n",
       " 'formats': [{'format': 'ESRI® Shapefile'},\n",
       "  {'format': 'GML', 'subformat': '3'},\n",
       "  {'format': 'GeoPackage'}],\n",
       " 'url': 'https://api.os.uk/downloads/v1/products/OpenRoads',\n",
       " 'imageCount': 3,\n",
       " 'imageTemplate': 'https://api.os.uk/downloads/v1/products/OpenRoads/images/{index}',\n",
       " 'downloadsUrl': 'https://api.os.uk/downloads/v1/products/OpenRoads/downloads',\n",
       " 'areas': ['GB']}"
      ]
     },
     "execution_count": 3,
     "metadata": {},
     "output_type": "execute_result"
    }
   ],
   "source": [
    "roads = requests.get(url)\n",
    "roads_json = roads.json()\n",
    "roads_json"
   ]
  },
  {
   "cell_type": "markdown",
   "metadata": {},
   "source": [
    "Get download URLs."
   ]
  },
  {
   "cell_type": "code",
   "execution_count": 4,
   "metadata": {},
   "outputs": [
    {
     "data": {
      "text/plain": [
       "[{'md5': '60286049CB76C9D6364F0FE87090202C',\n",
       "  'size': 541236838,\n",
       "  'url': 'https://api.os.uk/downloads/v1/products/OpenRoads/downloads?area=GB&format=ESRI%C2%AE+Shapefile&redirect',\n",
       "  'format': 'ESRI® Shapefile',\n",
       "  'area': 'GB',\n",
       "  'fileName': 'oproad_essh_gb.zip'},\n",
       " {'md5': '84E66CAFCEA9DD695A68540DE9379D4C',\n",
       "  'size': 542188036,\n",
       "  'url': 'https://api.os.uk/downloads/v1/products/OpenRoads/downloads?area=GB&format=GML&subformat=3&redirect',\n",
       "  'format': 'GML',\n",
       "  'subformat': '3',\n",
       "  'area': 'GB',\n",
       "  'fileName': 'oproad_gml3_gb.zip'},\n",
       " {'md5': 'E1FC93742CAAE7EF70C675749077AB42',\n",
       "  'size': 931331115,\n",
       "  'url': 'https://api.os.uk/downloads/v1/products/OpenRoads/downloads?area=GB&format=GeoPackage&redirect',\n",
       "  'format': 'GeoPackage',\n",
       "  'area': 'GB',\n",
       "  'fileName': 'oproad_gpkg_gb.zip'}]"
      ]
     },
     "execution_count": 4,
     "metadata": {},
     "output_type": "execute_result"
    }
   ],
   "source": [
    "download = requests.get(roads_json['downloadsUrl'])\n",
    "download_json = download.json()\n",
    "download_json"
   ]
  },
  {
   "cell_type": "markdown",
   "metadata": {},
   "source": [
    "Save zipped GeoPackage to disk. Since we do not know its contents, we can't read it directly to GeoPandas."
   ]
  },
  {
   "cell_type": "code",
   "execution_count": 5,
   "metadata": {},
   "outputs": [],
   "source": [
    "for fileformat in download_json:\n",
    "    if fileformat['format'] == 'GeoPackage':\n",
    "        with open(fileformat['fileName'], \"wb\") as down:\n",
    "            down.write(requests.get(fileformat['url']).content)\n",
    "            down.close()"
   ]
  },
  {
   "cell_type": "markdown",
   "metadata": {},
   "source": [
    "Explore the contents of the downloaded file."
   ]
  },
  {
   "cell_type": "code",
   "execution_count": 6,
   "metadata": {},
   "outputs": [
    {
     "data": {
      "text/plain": [
       "['readme.txt', 'data/oproad_gb.gpkg', 'doc/licence.txt']"
      ]
     },
     "execution_count": 6,
     "metadata": {},
     "output_type": "execute_result"
    }
   ],
   "source": [
    "gpkg = zipfile.ZipFile(fileformat['fileName'])\n",
    "gpkg.namelist()"
   ]
  },
  {
   "cell_type": "markdown",
   "metadata": {},
   "source": [
    "Read GeoPackage to GeoPandas."
   ]
  },
  {
   "cell_type": "code",
   "execution_count": 7,
   "metadata": {},
   "outputs": [
    {
     "data": {
      "text/html": [
       "<div>\n",
       "<style scoped>\n",
       "    .dataframe tbody tr th:only-of-type {\n",
       "        vertical-align: middle;\n",
       "    }\n",
       "\n",
       "    .dataframe tbody tr th {\n",
       "        vertical-align: top;\n",
       "    }\n",
       "\n",
       "    .dataframe thead th {\n",
       "        text-align: right;\n",
       "    }\n",
       "</style>\n",
       "<table border=\"1\" class=\"dataframe\">\n",
       "  <thead>\n",
       "    <tr style=\"text-align: right;\">\n",
       "      <th></th>\n",
       "      <th>id</th>\n",
       "      <th>endNode</th>\n",
       "      <th>startNode</th>\n",
       "      <th>roadNumberTOID</th>\n",
       "      <th>roadNameTOID</th>\n",
       "      <th>fictitious</th>\n",
       "      <th>roadClassification</th>\n",
       "      <th>roadFunction</th>\n",
       "      <th>formOfWay</th>\n",
       "      <th>length</th>\n",
       "      <th>...</th>\n",
       "      <th>loop</th>\n",
       "      <th>primaryRoute</th>\n",
       "      <th>trunkRoad</th>\n",
       "      <th>roadClassificationNumber</th>\n",
       "      <th>name1</th>\n",
       "      <th>name1_lang</th>\n",
       "      <th>name2</th>\n",
       "      <th>name2_lang</th>\n",
       "      <th>roadStructure</th>\n",
       "      <th>geometry</th>\n",
       "    </tr>\n",
       "  </thead>\n",
       "  <tbody>\n",
       "    <tr>\n",
       "      <th>0</th>\n",
       "      <td>id04AE862E-2A92-41BC-BBE0-6AF05DDDE57E</td>\n",
       "      <td>idD6A4C11F-3E69-4E22-9711-2DE393FCF0A2</td>\n",
       "      <td>idF4241DAB-6DC5-4C0E-90FA-161BF2270663</td>\n",
       "      <td>None</td>\n",
       "      <td>None</td>\n",
       "      <td>False</td>\n",
       "      <td>Unknown</td>\n",
       "      <td>Minor Road</td>\n",
       "      <td>Single Carriageway</td>\n",
       "      <td>500</td>\n",
       "      <td>...</td>\n",
       "      <td>False</td>\n",
       "      <td>False</td>\n",
       "      <td>False</td>\n",
       "      <td>None</td>\n",
       "      <td>None</td>\n",
       "      <td>None</td>\n",
       "      <td>None</td>\n",
       "      <td>None</td>\n",
       "      <td>None</td>\n",
       "      <td>LINESTRING (463181.000 1212313.000, 463361.630...</td>\n",
       "    </tr>\n",
       "    <tr>\n",
       "      <th>1</th>\n",
       "      <td>idDF59D6BB-3E5C-4BFA-91E9-81FAFB70D79C</td>\n",
       "      <td>idE7211001-42DF-416C-9304-D39F9F66D4A6</td>\n",
       "      <td>id8F2F6CFE-2E3D-4CA3-AD41-124E098F7197</td>\n",
       "      <td>None</td>\n",
       "      <td>None</td>\n",
       "      <td>False</td>\n",
       "      <td>Unknown</td>\n",
       "      <td>Minor Road</td>\n",
       "      <td>Single Carriageway</td>\n",
       "      <td>525</td>\n",
       "      <td>...</td>\n",
       "      <td>False</td>\n",
       "      <td>False</td>\n",
       "      <td>False</td>\n",
       "      <td>None</td>\n",
       "      <td>None</td>\n",
       "      <td>None</td>\n",
       "      <td>None</td>\n",
       "      <td>None</td>\n",
       "      <td>None</td>\n",
       "      <td>LINESTRING (464759.470 1212349.740, 464729.000...</td>\n",
       "    </tr>\n",
       "    <tr>\n",
       "      <th>2</th>\n",
       "      <td>id92D440D3-B707-45F8-8173-E7EE22663573</td>\n",
       "      <td>idCB2E6127-8894-4372-8B1A-D8EECC2B6F8C</td>\n",
       "      <td>id9404ED22-2647-483C-81B6-C294CF3B8712</td>\n",
       "      <td>None</td>\n",
       "      <td>None</td>\n",
       "      <td>False</td>\n",
       "      <td>Unknown</td>\n",
       "      <td>Minor Road</td>\n",
       "      <td>Single Carriageway</td>\n",
       "      <td>338</td>\n",
       "      <td>...</td>\n",
       "      <td>False</td>\n",
       "      <td>False</td>\n",
       "      <td>False</td>\n",
       "      <td>None</td>\n",
       "      <td>None</td>\n",
       "      <td>None</td>\n",
       "      <td>None</td>\n",
       "      <td>None</td>\n",
       "      <td>None</td>\n",
       "      <td>LINESTRING (463644.000 1212504.000, 463805.030...</td>\n",
       "    </tr>\n",
       "    <tr>\n",
       "      <th>3</th>\n",
       "      <td>id7AA3E18E-21A4-4FD4-B308-EA0B3EA67046</td>\n",
       "      <td>id1CC69224-6F4C-4706-A658-2175240DE21A</td>\n",
       "      <td>id63BA7519-6915-4553-BEA5-AF9C57EF73A5</td>\n",
       "      <td>None</td>\n",
       "      <td>None</td>\n",
       "      <td>False</td>\n",
       "      <td>Unknown</td>\n",
       "      <td>Restricted Local Access Road</td>\n",
       "      <td>Single Carriageway</td>\n",
       "      <td>99</td>\n",
       "      <td>...</td>\n",
       "      <td>False</td>\n",
       "      <td>False</td>\n",
       "      <td>False</td>\n",
       "      <td>None</td>\n",
       "      <td>None</td>\n",
       "      <td>None</td>\n",
       "      <td>None</td>\n",
       "      <td>None</td>\n",
       "      <td>None</td>\n",
       "      <td>LINESTRING (464193.000 1212455.000, 464217.080...</td>\n",
       "    </tr>\n",
       "    <tr>\n",
       "      <th>4</th>\n",
       "      <td>idB9590DD5-48C1-47F6-9B1A-044C454CCB00</td>\n",
       "      <td>id63BA7519-6915-4553-BEA5-AF9C57EF73A5</td>\n",
       "      <td>idE7211001-42DF-416C-9304-D39F9F66D4A6</td>\n",
       "      <td>None</td>\n",
       "      <td>osgb4000000003210673</td>\n",
       "      <td>False</td>\n",
       "      <td>Unknown</td>\n",
       "      <td>Minor Road</td>\n",
       "      <td>Single Carriageway</td>\n",
       "      <td>104</td>\n",
       "      <td>...</td>\n",
       "      <td>False</td>\n",
       "      <td>False</td>\n",
       "      <td>False</td>\n",
       "      <td>None</td>\n",
       "      <td>Beach Road</td>\n",
       "      <td>None</td>\n",
       "      <td>None</td>\n",
       "      <td>None</td>\n",
       "      <td>None</td>\n",
       "      <td>LINESTRING (464287.780 1212496.830, 464240.390...</td>\n",
       "    </tr>\n",
       "  </tbody>\n",
       "</table>\n",
       "<p>5 rows × 21 columns</p>\n",
       "</div>"
      ],
      "text/plain": [
       "                                       id  \\\n",
       "0  id04AE862E-2A92-41BC-BBE0-6AF05DDDE57E   \n",
       "1  idDF59D6BB-3E5C-4BFA-91E9-81FAFB70D79C   \n",
       "2  id92D440D3-B707-45F8-8173-E7EE22663573   \n",
       "3  id7AA3E18E-21A4-4FD4-B308-EA0B3EA67046   \n",
       "4  idB9590DD5-48C1-47F6-9B1A-044C454CCB00   \n",
       "\n",
       "                                  endNode  \\\n",
       "0  idD6A4C11F-3E69-4E22-9711-2DE393FCF0A2   \n",
       "1  idE7211001-42DF-416C-9304-D39F9F66D4A6   \n",
       "2  idCB2E6127-8894-4372-8B1A-D8EECC2B6F8C   \n",
       "3  id1CC69224-6F4C-4706-A658-2175240DE21A   \n",
       "4  id63BA7519-6915-4553-BEA5-AF9C57EF73A5   \n",
       "\n",
       "                                startNode roadNumberTOID  \\\n",
       "0  idF4241DAB-6DC5-4C0E-90FA-161BF2270663           None   \n",
       "1  id8F2F6CFE-2E3D-4CA3-AD41-124E098F7197           None   \n",
       "2  id9404ED22-2647-483C-81B6-C294CF3B8712           None   \n",
       "3  id63BA7519-6915-4553-BEA5-AF9C57EF73A5           None   \n",
       "4  idE7211001-42DF-416C-9304-D39F9F66D4A6           None   \n",
       "\n",
       "           roadNameTOID  fictitious roadClassification  \\\n",
       "0                  None       False            Unknown   \n",
       "1                  None       False            Unknown   \n",
       "2                  None       False            Unknown   \n",
       "3                  None       False            Unknown   \n",
       "4  osgb4000000003210673       False            Unknown   \n",
       "\n",
       "                   roadFunction           formOfWay  length  ...   loop  \\\n",
       "0                    Minor Road  Single Carriageway     500  ...  False   \n",
       "1                    Minor Road  Single Carriageway     525  ...  False   \n",
       "2                    Minor Road  Single Carriageway     338  ...  False   \n",
       "3  Restricted Local Access Road  Single Carriageway      99  ...  False   \n",
       "4                    Minor Road  Single Carriageway     104  ...  False   \n",
       "\n",
       "   primaryRoute  trunkRoad  roadClassificationNumber       name1 name1_lang  \\\n",
       "0         False      False                      None        None       None   \n",
       "1         False      False                      None        None       None   \n",
       "2         False      False                      None        None       None   \n",
       "3         False      False                      None        None       None   \n",
       "4         False      False                      None  Beach Road       None   \n",
       "\n",
       "  name2 name2_lang roadStructure  \\\n",
       "0  None       None          None   \n",
       "1  None       None          None   \n",
       "2  None       None          None   \n",
       "3  None       None          None   \n",
       "4  None       None          None   \n",
       "\n",
       "                                            geometry  \n",
       "0  LINESTRING (463181.000 1212313.000, 463361.630...  \n",
       "1  LINESTRING (464759.470 1212349.740, 464729.000...  \n",
       "2  LINESTRING (463644.000 1212504.000, 463805.030...  \n",
       "3  LINESTRING (464193.000 1212455.000, 464217.080...  \n",
       "4  LINESTRING (464287.780 1212496.830, 464240.390...  \n",
       "\n",
       "[5 rows x 21 columns]"
      ]
     },
     "execution_count": 7,
     "metadata": {},
     "output_type": "execute_result"
    }
   ],
   "source": [
    "gdf = gpd.read_file('zip://' + fileformat['fileName'] + '!' + gpkg.namelist()[1])\n",
    "gdf.head()"
   ]
  },
  {
   "cell_type": "markdown",
   "metadata": {},
   "source": [
    "## Save GeoDataFrame to PostGIS\n",
    "\n",
    "Note: table has to exist. Could be an empty dummy one, GeoPandas can replace it, but was not able to create a new one (possibly a bug)."
   ]
  },
  {
   "cell_type": "code",
   "execution_count": 2,
   "metadata": {},
   "outputs": [],
   "source": [
    "user = os.environ.get('DB_USER')\n",
    "pwd = os.environ.get('DB_PWD')\n",
    "host = os.environ.get('DB_HOST')\n",
    "port = os.environ.get('DB_PORT')"
   ]
  },
  {
   "cell_type": "code",
   "execution_count": 3,
   "metadata": {},
   "outputs": [],
   "source": [
    "db_connection_url = f\"postgres+psycopg2://{user}:{pwd}@{host}:{port}/built_env\"\n",
    "engine = create_engine(db_connection_url)"
   ]
  },
  {
   "cell_type": "code",
   "execution_count": 12,
   "metadata": {},
   "outputs": [],
   "source": [
    "gdf.to_postgis(\"openroads_200803\", engine, if_exists='replace')"
   ]
  },
  {
   "cell_type": "code",
   "execution_count": null,
   "metadata": {},
   "outputs": [],
   "source": []
  }
 ],
 "metadata": {
  "kernelspec": {
   "display_name": "Python 3",
   "language": "python",
   "name": "python3"
  },
  "language_info": {
   "codemirror_mode": {
    "name": "ipython",
    "version": 3
   },
   "file_extension": ".py",
   "mimetype": "text/x-python",
   "name": "python",
   "nbconvert_exporter": "python",
   "pygments_lexer": "ipython3",
   "version": "3.7.8-final"
  }
 },
 "nbformat": 4,
 "nbformat_minor": 4
}